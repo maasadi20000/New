{
  "nbformat": 4,
  "nbformat_minor": 0,
  "metadata": {
    "colab": {
      "provenance": [],
      "authorship_tag": "ABX9TyOy/lz2oEDxcQqypa6Nv1Ho",
      "include_colab_link": true
    },
    "kernelspec": {
      "name": "python3",
      "display_name": "Python 3"
    },
    "language_info": {
      "name": "python"
    }
  },
  "cells": [
    {
      "cell_type": "markdown",
      "metadata": {
        "id": "view-in-github",
        "colab_type": "text"
      },
      "source": [
        "<a href=\"https://colab.research.google.com/github/maasadi20000/New/blob/main/Another_copy_of_Copy_of_ed12.ipynb\" target=\"_parent\"><img src=\"https://colab.research.google.com/assets/colab-badge.svg\" alt=\"Open In Colab\"/></a>"
      ]
    },
    {
      "cell_type": "code",
      "execution_count": null,
      "metadata": {
        "id": "QW83r8Zruz-C"
      },
      "outputs": [],
      "source": [
        "from tensorflow.keras import datasets, models, layers,optimizers,losses,utils\n",
        "import matplotlib.pyplot as plt\n",
        "import numpy as np"
      ]
    },
    {
      "cell_type": "code",
      "source": [
        "(trn_img,trn_lbl),(tst_img,tst_lbl)=datasets.mnist.load_data()\n",
        "x_train=trn_img.reshape(60000,784)\n",
        "x_test=tst_img.reshape(10000,784)\n",
        "x_train=x_train.astype('float32')/255\n",
        "x_test=x_test.astype('float32')/255\n",
        "y_train=utils.to_categorical(trn_lbl)\n",
        "y_test=utils.to_categorical(tst_lbl)"
      ],
      "metadata": {
        "id": "ZXah7Snyv1fI"
      },
      "execution_count": null,
      "outputs": []
    },
    {
      "cell_type": "code",
      "source": [
        "\n",
        "k=10\n",
        "for i in range(k):\n",
        "   plt.subplot(1,k,i+1)\n",
        "   plt.imshow(trn_img[i],cmap='gray')\n",
        "   plt.title(trn_lbl[i])\n",
        "   plt.axis('off')"
      ],
      "metadata": {
        "id": "9NNC17UHymeW"
      },
      "execution_count": null,
      "outputs": []
    },
    {
      "cell_type": "code",
      "source": [
        "myModel=models.Sequential()\n",
        "myModel.add(layers.Dense(500, activation='relu',input_shape=(784,)))\n",
        "myModel.add(layers.Dense(100, activation='relu'))\n",
        "myModel.add(layers.Dense(10, activation='softmax'))\n",
        "myModel.summary()\n",
        "myModel.compile(optimizer=optimizers.legacy.SGD(lr=0.001),loss=losses.categorical_crossentropy)"
      ],
      "metadata": {
        "id": "lSfyCEEQ13aI"
      },
      "execution_count": null,
      "outputs": []
    },
    {
      "cell_type": "code",
      "source": [
        "myModel.fit(x_train,y_train,batch_size=128,epochs=200, validation_split=0.2)"
      ],
      "metadata": {
        "id": "xXK6oB3m7Dfd"
      },
      "execution_count": null,
      "outputs": []
    }
  ]
}