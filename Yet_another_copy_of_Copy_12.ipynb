{
  "nbformat": 4,
  "nbformat_minor": 0,
  "metadata": {
    "colab": {
      "provenance": [],
      "authorship_tag": "ABX9TyMu7QVPg63jeVw44IIpOSjk",
      "include_colab_link": true
    },
    "kernelspec": {
      "name": "python3",
      "display_name": "Python 3"
    },
    "language_info": {
      "name": "python"
    }
  },
  "cells": [
    {
      "cell_type": "markdown",
      "metadata": {
        "id": "view-in-github",
        "colab_type": "text"
      },
      "source": [
        "<a href=\"https://colab.research.google.com/github/maasadi20000/New/blob/main/Yet_another_copy_of_Copy_12.ipynb\" target=\"_parent\"><img src=\"https://colab.research.google.com/assets/colab-badge.svg\" alt=\"Open In Colab\"/></a>"
      ]
    },
    {
      "cell_type": "code",
      "execution_count": null,
      "metadata": {
        "id": "QW83r8Zruz-C"
      },
      "outputs": [],
      "source": [
        "from tensorflow.keras import datasets, models, layers,optimizers,losses,utils\n",
        "import matplotlib.pyplot as plt\n",
        "import numpy as np"
      ]
    },
    {
      "cell_type": "code",
      "source": [
        "(trn_img,trn_lbl),(tst_img,tst_lbl)=datasets.mnist.load_data()\n",
        "x_train=trn_img.reshape(60000,28,28,1)\n",
        "x_test=tst_img.reshape(10000,28,28,1)\n",
        "x_train=x_train.astype('float32')/255\n",
        "x_test=x_test.astype('float32')/255\n",
        "y_train=utils.to_categorical(trn_lbl)\n",
        "y_test=utils.to_categorical(tst_lbl)"
      ],
      "metadata": {
        "id": "ZXah7Snyv1fI",
        "colab": {
          "base_uri": "https://localhost:8080/"
        },
        "outputId": "a7d77a55-e56d-4f96-fe1e-403be9e9665d"
      },
      "execution_count": null,
      "outputs": [
        {
          "output_type": "stream",
          "name": "stdout",
          "text": [
            "Downloading data from https://storage.googleapis.com/tensorflow/tf-keras-datasets/mnist.npz\n",
            "11490434/11490434 [==============================] - 0s 0us/step\n"
          ]
        }
      ]
    },
    {
      "cell_type": "code",
      "source": [
        "\n",
        "k=10\n",
        "for i in range(k):\n",
        "   plt.subplot(1,k,i+1)\n",
        "   plt.imshow(trn_img[i],cmap='gray')\n",
        "   plt.title(trn_lbl[i])\n",
        "   plt.axis('off')"
      ],
      "metadata": {
        "id": "9NNC17UHymeW",
        "colab": {
          "base_uri": "https://localhost:8080/",
          "height": 67
        },
        "outputId": "a5b102e3-f47a-42ee-8878-fc0312adc3a1"
      },
      "execution_count": null,
      "outputs": [
        {
          "output_type": "display_data",
          "data": {
            "text/plain": [
              "<Figure size 640x480 with 10 Axes>"
            ],
            "image/png": "[encoded data removed]"
          },
          "metadata": {}
        }
      ]
    },
    {
      "cell_type": "code",
      "source": [
        "myInput=layers.Input(shape=(28,28,1))\n",
        "conv1=layers.Conv2D(16,3, activation='relu',padding='same',strides=2)(myInput)\n",
        "conv2=layers.Conv2D(16,3, activation='relu',padding='same',strides=2)(conv1)\n",
        "flat=layers.Flatten()(conv2)\n",
        "outlayer=layers.Dense(10, activation='softmax')(flat)\n",
        "myModel=models.Model(myInput,outlayer)\n",
        "myModel.compile(optimizer=optimizers.legacy.SGD(lr=0.001),loss=losses.categorical_crossentropy)"
      ],
      "metadata": {
        "id": "lSfyCEEQ13aI",
        "colab": {
          "base_uri": "https://localhost:8080/"
        },
        "outputId": "1b6c6927-9081-4356-b8fe-42040d82ac99"
      },
      "execution_count": null,
      "outputs": [
        {
          "output_type": "stream",
          "name": "stderr",
          "text": [
            "/usr/local/lib/python3.10/dist-packages/keras/src/optimizers/legacy/gradient_descent.py:114: UserWarning: The `lr` argument is deprecated, use `learning_rate` instead.\n",
            "  super().__init__(name, **kwargs)\n"
          ]
        }
      ]
    },
    {
      "cell_type": "code",
      "source": [
        "myModel.fit(x_train,y_train,batch_size=128,epochs=200, validation_split=0.2)"
      ],
      "metadata": {
        "id": "xXK6oB3m7Dfd",
        "colab": {
          "base_uri": "https://localhost:8080/"
        },
        "outputId": "ee224949-fc59-4aff-d4e2-4c9f75dccd35"
      },
      "execution_count": null,
      "outputs": [
        {
          "output_type": "stream",
          "name": "stdout",
          "text": [
            "Epoch 1/200\n",
            "375/375 [==============================] - 8s 21ms/step - loss: 0.2516 - val_loss: 0.2402\n",
            "Epoch 2/200\n",
            "220/375 [================>.............] - ETA: 3s - loss: 0.2513"
          ]
        }
      ]
    }
  ]
}