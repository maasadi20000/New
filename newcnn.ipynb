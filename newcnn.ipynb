{
  "nbformat": 4,
  "nbformat_minor": 0,
  "metadata": {
    "colab": {
      "provenance": [],
      "include_colab_link": true
    },
    "kernelspec": {
      "name": "python3",
      "display_name": "Python 3"
    },
    "language_info": {
      "name": "python"
    }
  },
  "cells": [
    {
      "cell_type": "markdown",
      "metadata": {
        "id": "view-in-github",
        "colab_type": "text"
      },
      "source": [
        "<a href=\"https://colab.research.google.com/github/maasadi20000/New/blob/main/newcnn.ipynb\" target=\"_parent\"><img src=\"https://colab.research.google.com/assets/colab-badge.svg\" alt=\"Open In Colab\"/></a>"
      ]
    },
    {
      "cell_type": "code",
      "execution_count": null,
      "metadata": {
        "id": "QW83r8Zruz-C"
      },
      "outputs": [],
      "source": [
        "from tensorflow.keras import datasets, models, layers,optimizers,losses,utils\n",
        "import matplotlib.pyplot as plt\n",
        "import numpy as np"
      ]
    },
    {
      "cell_type": "code",
      "source": [
        "(trn_img,trn_lbl),(tst_img,tst_lbl)=datasets.mnist.load_data()\n",
        "x_train=trn_img.reshape(60000,28,28,1)\n",
        "x_test=tst_img.reshape(10000,28,28,1)\n",
        "x_train=x_train.astype('float32')/255\n",
        "x_test=x_test.astype('float32')/255\n",
        "y_train=utils.to_categorical(trn_lbl)\n",
        "y_test=utils.to_categorical(tst_lbl)"
      ],
      "metadata": {
        "id": "ZXah7Snyv1fI"
      },
      "execution_count": null,
      "outputs": []
    },
    {
      "cell_type": "code",
      "source": [
        "\n",
        "k=10\n",
        "for i in range(k):\n",
        "   plt.subplot(1,k,i+1)\n",
        "   plt.imshow(trn_img[i],cmap='gray')\n",
        "   plt.title(trn_lbl[i])\n",
        "   plt.axis('off')"
      ],
      "metadata": {
        "id": "9NNC17UHymeW"
      },
      "execution_count": null,
      "outputs": []
    },
    {
      "cell_type": "code",
      "source": [
        "myInput=layers.Input(shape=(28,28,1))\n",
        "conv1=layers.Conv2D(16,3, activation='relu',padding='same',strides=2)(myInput)\n",
        "conv2=layers.Conv2D(16,3, activation='relu',padding='same',strides=2)(conv1)\n",
        "flat=layers.Flatten()(conv2)\n",
        "outlayer=layers.Dense(10, activation='softmax')(flat)\n",
        "myModel=models.Model(myInput,outlayer)\n",
        "myModel.compile(optimizer=optimizers.legacy.SGD(lr=0.001),loss=losses.categorical_crossentropy)"
      ],
      "metadata": {
        "id": "lSfyCEEQ13aI",
        "colab": {
          "base_uri": "https://localhost:8080/"
        },
        "outputId": "1b6c6927-9081-4356-b8fe-42040d82ac99"
      },
      "execution_count": null,
      "outputs": [
        {
          "output_type": "stream",
          "name": "stderr",
          "text": [
            "/usr/local/lib/python3.10/dist-packages/keras/src/optimizers/legacy/gradient_descent.py:114: UserWarning: The `lr` argument is deprecated, use `learning_rate` instead.\n",
            "  super().__init__(name, **kwargs)\n"
          ]
        }
      ]
    },
    {
      "cell_type": "code",
      "source": [
        "out=myModel.fit(x_train,y_train,batch_size=128,epochs=200, validation_split=0.2)"
      ],
      "metadata": {
        "id": "xXK6oB3m7Dfd"
      },
      "execution_count": null,
      "outputs": []
    },
    {
      "cell_type": "code",
      "source": [
        "losses=out.history['loss']\n",
        "losses_val=out.history['val_loss']"
      ],
      "metadata": {
        "id": "sJ95Az6Z7QGQ"
      },
      "execution_count": null,
      "outputs": []
    },
    {
      "cell_type": "code",
      "source": [
        "plt.plot(losses)\n",
        "plt.plot(losses_val)\n",
        "plt.xlable('Epoch')\n",
        "plt.ylabe('Loss')\n",
        "plt.legend(['Loss','Val_Loss'])"
      ],
      "metadata": {
        "id": "NZuim6vN7zJ3"
      },
      "execution_count": null,
      "outputs": []
    },
    {
      "cell_type": "code",
      "source": [
        "test_Loss=myModel.evaluate(x_test,y_test)\n",
        "print('test_Loss: ',test_Loss)\n",
        "test_labels_p=myModel.predict(x_test)\n",
        "test_labels_p=np.argmax(test_labels_p,axis=1)"
      ],
      "metadata": {
        "id": "NXVNDLwP8d7v"
      },
      "execution_count": null,
      "outputs": []
    },
    {
      "cell_type": "code",
      "source": [
        "n=0\n",
        "f,axs=plt.subplots(1,10,figsize=(15,15))\n",
        "for i in range(len(test_labels)):\n",
        "  if n>=10:\n",
        "    break\n",
        "  if (test_labels_p[i]!=testtest_labels[i]):\n",
        "    axs[n].imshow(tst_img[i],cmap='gray')\n",
        "    axs[n].set_title(f'{tst_lbl[i]}-->{test_labels_p[i]}')\n",
        "    axs[n].axis('off')\n",
        "    n+=1"
      ],
      "metadata": {
        "id": "jL3yJH7d-Mrx"
      },
      "execution_count": null,
      "outputs": []
    }
  ]
}